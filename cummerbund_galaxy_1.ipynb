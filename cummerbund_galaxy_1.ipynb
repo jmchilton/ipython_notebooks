{
 "metadata": {
  "name": "",
  "signature": "sha256:a75f6a735b5203e35129b8bd4452fce38cdfb6a01a250bce7baa2c60cfd0c260"
 },
 "nbformat": 3,
 "nbformat_minor": 0,
 "worksheets": [
  {
   "cells": [
    {
     "cell_type": "heading",
     "level": 1,
     "metadata": {},
     "source": [
      "Welcome to the interactive Galaxy IPython Notebook."
     ]
    },
    {
     "cell_type": "markdown",
     "metadata": {},
     "source": [
      "You can access your data via the dataset number. For example, ``handle = get(42)``.\n",
      "To save data, write your data to a file, and then call ``put('filename.txt')``. The dataset will then be available in your galaxy history.\n",
      "Notebooks can be saved to Galaxy by clicking the large green button at the top right of the IPython interface.<br>\n",
      "More help and informations can be found on the project [website](https://github.com/bgruening/galaxy-ipython)."
     ]
    },
    {
     "cell_type": "code",
     "collapsed": false,
     "input": [
      "get(72, True)"
     ],
     "language": "python",
     "metadata": {},
     "outputs": [
      {
       "metadata": {},
       "output_type": "pyout",
       "prompt_number": 1,
       "text": [
        "'/import/72'"
       ]
      }
     ],
     "prompt_number": 1
    },
    {
     "cell_type": "code",
     "collapsed": false,
     "input": [
      "%load_ext rpy2.ipython"
     ],
     "language": "python",
     "metadata": {},
     "outputs": [],
     "prompt_number": 2
    },
    {
     "cell_type": "code",
     "collapsed": false,
     "input": [
      "%R library(cummeRbund)"
     ],
     "language": "python",
     "metadata": {},
     "outputs": [
      {
       "metadata": {},
       "output_type": "display_data",
       "text": [
        "Loading required package: BiocGenerics\n",
        "Loading required package: parallel\n",
        "\n",
        "Attaching package: 'BiocGenerics'\n",
        "\n",
        "The following objects are masked from 'package:parallel':\n",
        "\n",
        "    clusterApply, clusterApplyLB, clusterCall, clusterEvalQ,\n",
        "    clusterExport, clusterMap, parApply, parCapply, parLapply,\n",
        "    parLapplyLB, parRapply, parSapply, parSapplyLB\n",
        "\n",
        "The following object is masked from 'package:stats':\n",
        "\n",
        "    xtabs\n",
        "\n",
        "The following objects are masked from 'package:base':\n",
        "\n",
        "    Filter, Find, Map, Position, Reduce, anyDuplicated, append,\n",
        "    as.data.frame, as.vector, cbind, colnames, do.call, duplicated,\n",
        "    eval, evalq, get, intersect, is.unsorted, lapply, mapply, match,\n",
        "    mget, order, paste, pmax, pmax.int, pmin, pmin.int, rank, rbind,\n",
        "    rep.int, rownames, sapply, setdiff, sort, table, tapply, union,\n",
        "    unique, unlist, unsplit\n",
        "\n",
        "Loading required package: RSQLite\n",
        "Loading required package: DBI\n",
        "Loading required package: ggplot2\n",
        "Loading required package: reshape2\n",
        "Loading required package: fastcluster\n",
        "\n",
        "Attaching package: 'fastcluster'\n",
        "\n",
        "The following object is masked from 'package:stats':\n",
        "\n",
        "    hclust\n",
        "\n",
        "Loading required package: rtracklayer\n",
        "Loading required package: GenomicRanges\n",
        "Loading required package: S4Vectors\n",
        "Loading required package: stats4\n",
        "Loading required package: IRanges\n",
        "Loading required package: GenomeInfoDb\n",
        "Loading required package: Gviz\n",
        "Loading required package: grid\n",
        "\n",
        "Attaching package: 'cummeRbund'\n",
        "\n",
        "The following object is masked from 'package:GenomicRanges':\n",
        "\n",
        "    promoters\n",
        "\n",
        "The following object is masked from 'package:IRanges':\n",
        "\n",
        "    promoters\n",
        "\n",
        "The following object is masked from 'package:BiocGenerics':\n",
        "\n",
        "    conditions\n",
        "\n"
       ]
      }
     ],
     "prompt_number": 3
    },
    {
     "cell_type": "code",
     "collapsed": false,
     "input": [
      "%R cuff <- readCufflinks(dbFile='72')"
     ],
     "language": "python",
     "metadata": {},
     "outputs": [
      {
       "metadata": {},
       "output_type": "pyout",
       "prompt_number": 4,
       "text": [
        "<RS4 - Python:0x4a90b48 / R:0x109273a0>"
       ]
      }
     ],
     "prompt_number": 4
    },
    {
     "cell_type": "code",
     "collapsed": false,
     "input": [
      "%R print(fpkmSCVPlot(genes(cuff)))"
     ],
     "language": "python",
     "metadata": {},
     "outputs": [
      {
       "metadata": {},
       "output_type": "display_data",
       "text": [
        "Scale for 'x' is already present. Adding another scale for 'x', which will replace the existing scale.\n",
        "geom_smooth: method=\"auto\" and size of largest group is >=1000, so using gam with formula: y ~ s(x, bs = \"cs\"). Use 'method = x' to change the smoothing method.\n"
       ]
      },
      {
       "metadata": {},
       "output_type": "display_data",
       "png": "[encoded data removed]"
      }
     ],
     "prompt_number": 5
    },
    {
     "cell_type": "code",
     "collapsed": false,
     "input": [
      "%R sigGenes <- getGenes(cuff,sig)"
     ],
     "language": "python",
     "metadata": {},
     "outputs": [
      {
       "metadata": {},
       "output_type": "display_data",
       "text": [
        "Getting gene information:\n",
        "\tFPKM\n",
        "\tDifferential Expression Data\n",
        "\tAnnotation Data\n",
        "\tReplicate FPKMs\n",
        "\tCounts\n",
        "Getting isoforms information:\n",
        "\tFPKM\n",
        "\tDifferential Expression Data\n",
        "\tAnnotation Data\n",
        "\tReplicate FPKMs\n",
        "\tCounts\n",
        "Getting CDS information:\n",
        "\tFPKM\n",
        "\tDifferential Expression Data\n",
        "\tAnnotation Data\n",
        "\tReplicate FPKMs\n",
        "\tCounts\n",
        "Getting TSS information:\n",
        "\tFPKM\n",
        "\tDifferential Expression Data\n",
        "\tAnnotation Data\n",
        "\tReplicate FPKMs\n",
        "\tCounts\n",
        "Getting promoter information:\n",
        "\tdistData\n",
        "Getting splicing information:\n",
        "\tdistData\n",
        "Getting relCDS information:\n",
        "\tdistData\n"
       ]
      }
     ],
     "prompt_number": 7
    },
    {
     "cell_type": "code",
     "collapsed": false,
     "input": [
      "%R png(filename = 'siggene_heatmap.png', width = 900, height = 1000, units = 'px');  \\\n",
      "   print(csHeatmap(sigGenes, cluster='both')); \\\n",
      "   dev.off()\n",
      "put('siggene_heatmap.png')"
     ],
     "language": "python",
     "metadata": {},
     "outputs": [
      {
       "metadata": {},
       "output_type": "display_data",
       "text": [
        "Using tracking_id, sample_name as id variables\n",
        "No id variables; using all as measure variables\n"
       ]
      }
     ],
     "prompt_number": 71
    },
    {
     "cell_type": "code",
     "collapsed": false,
     "input": [
      "%R dens <- csDensity(genes(cuff))\n",
      "%R print(dens)"
     ],
     "language": "python",
     "metadata": {},
     "outputs": [
      {
       "metadata": {},
       "output_type": "display_data",
       "png": "[encoded data removed]"
      },
      {
       "metadata": {},
       "output_type": "pyout",
       "prompt_number": 54,
       "text": [
        "<ListVector - Python:0x6de9440 / R:0x1efc0750>\n",
        "[ListVector, ListVector, ListVector]\n",
        "<ListVector - Python:0x6de9440 / R:0x1efc0750>\n",
        "[ListVector, ListVector, ListVector]\n",
        "<ListVector - Python:0x6de9440 / R:0x1efc0750>\n",
        "[ListVector, ListVector, ListVector]\n",
        "<ListVector - Python:0x6de9440 / R:0x1efc0750>\n",
        "[ListVector, ListVector, ListVector]"
       ]
      }
     ],
     "prompt_number": 54
    },
    {
     "cell_type": "code",
     "collapsed": false,
     "input": [
      "%Rpull dens"
     ],
     "language": "python",
     "metadata": {},
     "outputs": [],
     "prompt_number": 56
    },
    {
     "cell_type": "code",
     "collapsed": false,
     "input": [
      "with open('gene_fpkm.tsv', \"w\") as f:\n",
      "  for val in zip(dens[0]['gene_id'], dens[0]['fpkm']):\n",
      "        f.write(\"\\t\".join(map(str, val)) + \"\\n\")"
     ],
     "language": "python",
     "metadata": {},
     "outputs": [],
     "prompt_number": 69
    },
    {
     "cell_type": "code",
     "collapsed": false,
     "input": [
      "put(\"gene_fpkm.tsv\")"
     ],
     "language": "python",
     "metadata": {},
     "outputs": [],
     "prompt_number": 70
    },
    {
     "cell_type": "code",
     "collapsed": false,
     "input": [],
     "language": "python",
     "metadata": {},
     "outputs": []
    }
   ],
   "metadata": {}
  }
 ]
}
